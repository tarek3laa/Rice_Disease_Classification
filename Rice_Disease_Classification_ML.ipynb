{
  "nbformat": 4,
  "nbformat_minor": 0,
  "metadata": {
    "colab": {
      "provenance": []
    },
    "kernelspec": {
      "name": "python3",
      "display_name": "Python 3"
    },
    "language_info": {
      "name": "python"
    },
    "gpuClass": "standard"
  },
  "cells": [
    {
      "cell_type": "code",
      "execution_count": null,
      "metadata": {
        "id": "mF0KJdk2l7wn"
      },
      "outputs": [],
      "source": [
        "import pandas as pd\n",
        "import numpy as np\n",
        "import cv2\n",
        "import matplotlib.pyplot as plt\n",
        "import os\n",
        "from sklearn.utils import class_weight\n",
        "from sklearn.model_selection import train_test_split,KFold,GridSearchCV\n",
        "from sklearn.preprocessing import OneHotEncoder,OrdinalEncoder\n",
        "from sklearn.svm import SVC\n",
        "from sklearn.metrics import log_loss\n",
        "from sklearn.feature_selection import RFE,chi2,SelectKBest\n",
        "from sklearn.preprocessing import MinMaxScaler\n",
        "from sklearn.linear_model import LogisticRegression\n",
        "from sklearn.ensemble import RandomForestClassifier\n",
        "from keras.models import Sequential\n",
        "from keras.layers import Conv2D, MaxPooling2D, Dense, Flatten, Dropout,GlobalAveragePooling2D,Input\n",
        "from tensorflow.keras.optimizers import Adam\n",
        "from sklearn.utils import class_weight\n",
        "import xgboost as xgb"
      ]
    },
    {
      "cell_type": "code",
      "source": [
        "featuers_df_train = pd.read_csv('/content/drive/MyDrive/rice disease/train_sift.csv')"
      ],
      "metadata": {
        "id": "uSCGEf7HmxH6"
      },
      "execution_count": null,
      "outputs": []
    },
    {
      "cell_type": "code",
      "source": [
        "featuers_df_val = pd.read_csv('/content/drive/MyDrive/rice disease/val_sift_v2.csv')"
      ],
      "metadata": {
        "id": "3XNWe91MJigm"
      },
      "execution_count": null,
      "outputs": []
    },
    {
      "cell_type": "code",
      "source": [
        "test_features_df = pd.read_csv('/content/drive/MyDrive/rice disease/test_sift_v2.csv')"
      ],
      "metadata": {
        "id": "l2neUtKAnGGX"
      },
      "execution_count": null,
      "outputs": []
    },
    {
      "cell_type": "code",
      "source": [
        "featuers_df_train.describe()"
      ],
      "metadata": {
        "colab": {
          "base_uri": "https://localhost:8080/",
          "height": 393
        },
        "id": "w3rs8Xwf6DFF",
        "outputId": "b2340fa0-4a15-455f-c7b5-cc623bdd4ab0"
      },
      "execution_count": null,
      "outputs": [
        {
          "output_type": "execute_result",
          "data": {
            "text/plain": [
              "                 3            4            5            6            7  \\\n",
              "count  4272.000000  4272.000000  4272.000000  4272.000000  4272.000000   \n",
              "mean     15.260768    18.988296    12.308287    10.013343    15.076077   \n",
              "std      24.452399    28.180596    22.666915    19.418931    23.812201   \n",
              "min       0.000000     0.000000     0.000000     0.000000     0.000000   \n",
              "25%       1.000000     1.000000     0.000000     0.000000     1.000000   \n",
              "50%       5.000000     6.000000     3.000000     2.000000     5.000000   \n",
              "75%      18.000000    24.250000    13.000000    10.000000    17.000000   \n",
              "max     155.000000   147.000000   152.000000   148.000000   143.000000   \n",
              "\n",
              "                 8            9           10           11           12  ...  \\\n",
              "count  4272.000000  4272.000000  4272.000000  4272.000000  4272.000000  ...   \n",
              "mean     63.948034    29.591058    14.658006    16.586845    24.554775  ...   \n",
              "std      53.800155    33.931738    22.284717    24.846529    32.913604  ...   \n",
              "min       0.000000     0.000000     0.000000     0.000000     0.000000  ...   \n",
              "25%      15.000000     5.000000     1.000000     1.000000     2.000000  ...   \n",
              "50%      47.000000    16.000000     6.000000     6.000000    11.000000  ...   \n",
              "75%     115.000000    41.250000    19.000000    21.000000    33.000000  ...   \n",
              "max     207.000000   173.000000   141.000000   155.000000   167.000000  ...   \n",
              "\n",
              "               631          632          633          634          635  \\\n",
              "count  4272.000000  4272.000000  4272.000000  4272.000000  4272.000000   \n",
              "mean     22.481507    20.059925    12.907537    10.142322    17.052200   \n",
              "std      28.830399    27.406078    22.163208    19.450430    24.692448   \n",
              "min       0.000000     0.000000     0.000000     0.000000     0.000000   \n",
              "25%       3.000000     1.000000     0.000000     0.000000     1.000000   \n",
              "50%      11.000000     9.000000     4.000000     2.000000     7.000000   \n",
              "75%      31.000000    28.000000    15.000000    11.000000    22.000000   \n",
              "max     154.000000   153.000000   151.000000   141.000000   147.000000   \n",
              "\n",
              "               636          637         638          639        Label  \n",
              "count  4272.000000  4272.000000  4272.00000  4272.000000  4272.000000  \n",
              "mean     34.697331    17.664326    11.02809    12.990637     0.594101  \n",
              "std      38.371185    25.906378    21.45055    22.344693     0.740533  \n",
              "min       0.000000     0.000000     0.00000     0.000000     0.000000  \n",
              "25%       5.000000     1.000000     0.00000     1.000000     0.000000  \n",
              "50%      19.000000     7.000000     2.00000     3.000000     0.000000  \n",
              "75%      54.000000    23.000000    11.00000    15.000000     1.000000  \n",
              "max     173.000000   157.000000   143.00000   151.000000     2.000000  \n",
              "\n",
              "[8 rows x 638 columns]"
            ],
            "text/html": [
              "\n",
              "  <div id=\"df-861d16b8-81d0-406f-a1d5-275e57a14a2d\">\n",
              "    <div class=\"colab-df-container\">\n",
              "      <div>\n",
              "<style scoped>\n",
              "    .dataframe tbody tr th:only-of-type {\n",
              "        vertical-align: middle;\n",
              "    }\n",
              "\n",
              "    .dataframe tbody tr th {\n",
              "        vertical-align: top;\n",
              "    }\n",
              "\n",
              "    .dataframe thead th {\n",
              "        text-align: right;\n",
              "    }\n",
              "</style>\n",
              "<table border=\"1\" class=\"dataframe\">\n",
              "  <thead>\n",
              "    <tr style=\"text-align: right;\">\n",
              "      <th></th>\n",
              "      <th>3</th>\n",
              "      <th>4</th>\n",
              "      <th>5</th>\n",
              "      <th>6</th>\n",
              "      <th>7</th>\n",
              "      <th>8</th>\n",
              "      <th>9</th>\n",
              "      <th>10</th>\n",
              "      <th>11</th>\n",
              "      <th>12</th>\n",
              "      <th>...</th>\n",
              "      <th>631</th>\n",
              "      <th>632</th>\n",
              "      <th>633</th>\n",
              "      <th>634</th>\n",
              "      <th>635</th>\n",
              "      <th>636</th>\n",
              "      <th>637</th>\n",
              "      <th>638</th>\n",
              "      <th>639</th>\n",
              "      <th>Label</th>\n",
              "    </tr>\n",
              "  </thead>\n",
              "  <tbody>\n",
              "    <tr>\n",
              "      <th>count</th>\n",
              "      <td>4272.000000</td>\n",
              "      <td>4272.000000</td>\n",
              "      <td>4272.000000</td>\n",
              "      <td>4272.000000</td>\n",
              "      <td>4272.000000</td>\n",
              "      <td>4272.000000</td>\n",
              "      <td>4272.000000</td>\n",
              "      <td>4272.000000</td>\n",
              "      <td>4272.000000</td>\n",
              "      <td>4272.000000</td>\n",
              "      <td>...</td>\n",
              "      <td>4272.000000</td>\n",
              "      <td>4272.000000</td>\n",
              "      <td>4272.000000</td>\n",
              "      <td>4272.000000</td>\n",
              "      <td>4272.000000</td>\n",
              "      <td>4272.000000</td>\n",
              "      <td>4272.000000</td>\n",
              "      <td>4272.00000</td>\n",
              "      <td>4272.000000</td>\n",
              "      <td>4272.000000</td>\n",
              "    </tr>\n",
              "    <tr>\n",
              "      <th>mean</th>\n",
              "      <td>15.260768</td>\n",
              "      <td>18.988296</td>\n",
              "      <td>12.308287</td>\n",
              "      <td>10.013343</td>\n",
              "      <td>15.076077</td>\n",
              "      <td>63.948034</td>\n",
              "      <td>29.591058</td>\n",
              "      <td>14.658006</td>\n",
              "      <td>16.586845</td>\n",
              "      <td>24.554775</td>\n",
              "      <td>...</td>\n",
              "      <td>22.481507</td>\n",
              "      <td>20.059925</td>\n",
              "      <td>12.907537</td>\n",
              "      <td>10.142322</td>\n",
              "      <td>17.052200</td>\n",
              "      <td>34.697331</td>\n",
              "      <td>17.664326</td>\n",
              "      <td>11.02809</td>\n",
              "      <td>12.990637</td>\n",
              "      <td>0.594101</td>\n",
              "    </tr>\n",
              "    <tr>\n",
              "      <th>std</th>\n",
              "      <td>24.452399</td>\n",
              "      <td>28.180596</td>\n",
              "      <td>22.666915</td>\n",
              "      <td>19.418931</td>\n",
              "      <td>23.812201</td>\n",
              "      <td>53.800155</td>\n",
              "      <td>33.931738</td>\n",
              "      <td>22.284717</td>\n",
              "      <td>24.846529</td>\n",
              "      <td>32.913604</td>\n",
              "      <td>...</td>\n",
              "      <td>28.830399</td>\n",
              "      <td>27.406078</td>\n",
              "      <td>22.163208</td>\n",
              "      <td>19.450430</td>\n",
              "      <td>24.692448</td>\n",
              "      <td>38.371185</td>\n",
              "      <td>25.906378</td>\n",
              "      <td>21.45055</td>\n",
              "      <td>22.344693</td>\n",
              "      <td>0.740533</td>\n",
              "    </tr>\n",
              "    <tr>\n",
              "      <th>min</th>\n",
              "      <td>0.000000</td>\n",
              "      <td>0.000000</td>\n",
              "      <td>0.000000</td>\n",
              "      <td>0.000000</td>\n",
              "      <td>0.000000</td>\n",
              "      <td>0.000000</td>\n",
              "      <td>0.000000</td>\n",
              "      <td>0.000000</td>\n",
              "      <td>0.000000</td>\n",
              "      <td>0.000000</td>\n",
              "      <td>...</td>\n",
              "      <td>0.000000</td>\n",
              "      <td>0.000000</td>\n",
              "      <td>0.000000</td>\n",
              "      <td>0.000000</td>\n",
              "      <td>0.000000</td>\n",
              "      <td>0.000000</td>\n",
              "      <td>0.000000</td>\n",
              "      <td>0.00000</td>\n",
              "      <td>0.000000</td>\n",
              "      <td>0.000000</td>\n",
              "    </tr>\n",
              "    <tr>\n",
              "      <th>25%</th>\n",
              "      <td>1.000000</td>\n",
              "      <td>1.000000</td>\n",
              "      <td>0.000000</td>\n",
              "      <td>0.000000</td>\n",
              "      <td>1.000000</td>\n",
              "      <td>15.000000</td>\n",
              "      <td>5.000000</td>\n",
              "      <td>1.000000</td>\n",
              "      <td>1.000000</td>\n",
              "      <td>2.000000</td>\n",
              "      <td>...</td>\n",
              "      <td>3.000000</td>\n",
              "      <td>1.000000</td>\n",
              "      <td>0.000000</td>\n",
              "      <td>0.000000</td>\n",
              "      <td>1.000000</td>\n",
              "      <td>5.000000</td>\n",
              "      <td>1.000000</td>\n",
              "      <td>0.00000</td>\n",
              "      <td>1.000000</td>\n",
              "      <td>0.000000</td>\n",
              "    </tr>\n",
              "    <tr>\n",
              "      <th>50%</th>\n",
              "      <td>5.000000</td>\n",
              "      <td>6.000000</td>\n",
              "      <td>3.000000</td>\n",
              "      <td>2.000000</td>\n",
              "      <td>5.000000</td>\n",
              "      <td>47.000000</td>\n",
              "      <td>16.000000</td>\n",
              "      <td>6.000000</td>\n",
              "      <td>6.000000</td>\n",
              "      <td>11.000000</td>\n",
              "      <td>...</td>\n",
              "      <td>11.000000</td>\n",
              "      <td>9.000000</td>\n",
              "      <td>4.000000</td>\n",
              "      <td>2.000000</td>\n",
              "      <td>7.000000</td>\n",
              "      <td>19.000000</td>\n",
              "      <td>7.000000</td>\n",
              "      <td>2.00000</td>\n",
              "      <td>3.000000</td>\n",
              "      <td>0.000000</td>\n",
              "    </tr>\n",
              "    <tr>\n",
              "      <th>75%</th>\n",
              "      <td>18.000000</td>\n",
              "      <td>24.250000</td>\n",
              "      <td>13.000000</td>\n",
              "      <td>10.000000</td>\n",
              "      <td>17.000000</td>\n",
              "      <td>115.000000</td>\n",
              "      <td>41.250000</td>\n",
              "      <td>19.000000</td>\n",
              "      <td>21.000000</td>\n",
              "      <td>33.000000</td>\n",
              "      <td>...</td>\n",
              "      <td>31.000000</td>\n",
              "      <td>28.000000</td>\n",
              "      <td>15.000000</td>\n",
              "      <td>11.000000</td>\n",
              "      <td>22.000000</td>\n",
              "      <td>54.000000</td>\n",
              "      <td>23.000000</td>\n",
              "      <td>11.00000</td>\n",
              "      <td>15.000000</td>\n",
              "      <td>1.000000</td>\n",
              "    </tr>\n",
              "    <tr>\n",
              "      <th>max</th>\n",
              "      <td>155.000000</td>\n",
              "      <td>147.000000</td>\n",
              "      <td>152.000000</td>\n",
              "      <td>148.000000</td>\n",
              "      <td>143.000000</td>\n",
              "      <td>207.000000</td>\n",
              "      <td>173.000000</td>\n",
              "      <td>141.000000</td>\n",
              "      <td>155.000000</td>\n",
              "      <td>167.000000</td>\n",
              "      <td>...</td>\n",
              "      <td>154.000000</td>\n",
              "      <td>153.000000</td>\n",
              "      <td>151.000000</td>\n",
              "      <td>141.000000</td>\n",
              "      <td>147.000000</td>\n",
              "      <td>173.000000</td>\n",
              "      <td>157.000000</td>\n",
              "      <td>143.00000</td>\n",
              "      <td>151.000000</td>\n",
              "      <td>2.000000</td>\n",
              "    </tr>\n",
              "  </tbody>\n",
              "</table>\n",
              "<p>8 rows × 638 columns</p>\n",
              "</div>\n",
              "      <button class=\"colab-df-convert\" onclick=\"convertToInteractive('df-861d16b8-81d0-406f-a1d5-275e57a14a2d')\"\n",
              "              title=\"Convert this dataframe to an interactive table.\"\n",
              "              style=\"display:none;\">\n",
              "        \n",
              "  <svg xmlns=\"http://www.w3.org/2000/svg\" height=\"24px\"viewBox=\"0 0 24 24\"\n",
              "       width=\"24px\">\n",
              "    <path d=\"M0 0h24v24H0V0z\" fill=\"none\"/>\n",
              "    <path d=\"M18.56 5.44l.94 2.06.94-2.06 2.06-.94-2.06-.94-.94-2.06-.94 2.06-2.06.94zm-11 1L8.5 8.5l.94-2.06 2.06-.94-2.06-.94L8.5 2.5l-.94 2.06-2.06.94zm10 10l.94 2.06.94-2.06 2.06-.94-2.06-.94-.94-2.06-.94 2.06-2.06.94z\"/><path d=\"M17.41 7.96l-1.37-1.37c-.4-.4-.92-.59-1.43-.59-.52 0-1.04.2-1.43.59L10.3 9.45l-7.72 7.72c-.78.78-.78 2.05 0 2.83L4 21.41c.39.39.9.59 1.41.59.51 0 1.02-.2 1.41-.59l7.78-7.78 2.81-2.81c.8-.78.8-2.07 0-2.86zM5.41 20L4 18.59l7.72-7.72 1.47 1.35L5.41 20z\"/>\n",
              "  </svg>\n",
              "      </button>\n",
              "      \n",
              "  <style>\n",
              "    .colab-df-container {\n",
              "      display:flex;\n",
              "      flex-wrap:wrap;\n",
              "      gap: 12px;\n",
              "    }\n",
              "\n",
              "    .colab-df-convert {\n",
              "      background-color: #E8F0FE;\n",
              "      border: none;\n",
              "      border-radius: 50%;\n",
              "      cursor: pointer;\n",
              "      display: none;\n",
              "      fill: #1967D2;\n",
              "      height: 32px;\n",
              "      padding: 0 0 0 0;\n",
              "      width: 32px;\n",
              "    }\n",
              "\n",
              "    .colab-df-convert:hover {\n",
              "      background-color: #E2EBFA;\n",
              "      box-shadow: 0px 1px 2px rgba(60, 64, 67, 0.3), 0px 1px 3px 1px rgba(60, 64, 67, 0.15);\n",
              "      fill: #174EA6;\n",
              "    }\n",
              "\n",
              "    [theme=dark] .colab-df-convert {\n",
              "      background-color: #3B4455;\n",
              "      fill: #D2E3FC;\n",
              "    }\n",
              "\n",
              "    [theme=dark] .colab-df-convert:hover {\n",
              "      background-color: #434B5C;\n",
              "      box-shadow: 0px 1px 3px 1px rgba(0, 0, 0, 0.15);\n",
              "      filter: drop-shadow(0px 1px 2px rgba(0, 0, 0, 0.3));\n",
              "      fill: #FFFFFF;\n",
              "    }\n",
              "  </style>\n",
              "\n",
              "      <script>\n",
              "        const buttonEl =\n",
              "          document.querySelector('#df-861d16b8-81d0-406f-a1d5-275e57a14a2d button.colab-df-convert');\n",
              "        buttonEl.style.display =\n",
              "          google.colab.kernel.accessAllowed ? 'block' : 'none';\n",
              "\n",
              "        async function convertToInteractive(key) {\n",
              "          const element = document.querySelector('#df-861d16b8-81d0-406f-a1d5-275e57a14a2d');\n",
              "          const dataTable =\n",
              "            await google.colab.kernel.invokeFunction('convertToInteractive',\n",
              "                                                     [key], {});\n",
              "          if (!dataTable) return;\n",
              "\n",
              "          const docLinkHtml = 'Like what you see? Visit the ' +\n",
              "            '<a target=\"_blank\" href=https://colab.research.google.com/notebooks/data_table.ipynb>data table notebook</a>'\n",
              "            + ' to learn more about interactive tables.';\n",
              "          element.innerHTML = '';\n",
              "          dataTable['output_type'] = 'display_data';\n",
              "          await google.colab.output.renderOutput(dataTable, element);\n",
              "          const docLink = document.createElement('div');\n",
              "          docLink.innerHTML = docLinkHtml;\n",
              "          element.appendChild(docLink);\n",
              "        }\n",
              "      </script>\n",
              "    </div>\n",
              "  </div>\n",
              "  "
            ]
          },
          "metadata": {},
          "execution_count": 5
        }
      ]
    },
    {
      "cell_type": "code",
      "source": [
        "train,test = train_test_split(featuers_df_train.drop('Image_id',axis=1),test_size=0.2,stratify=featuers_df_train['Label'])"
      ],
      "metadata": {
        "id": "4Lqc7kdTUD67"
      },
      "execution_count": null,
      "outputs": []
    },
    {
      "cell_type": "code",
      "source": [
        "X_train = np.array(train.drop('Label',axis=1))\n",
        "y_train = OrdinalEncoder().fit_transform(train['Label'].to_numpy().reshape(-1, 1)).reshape(-1)"
      ],
      "metadata": {
        "id": "Q5lUgbOPpb38"
      },
      "execution_count": null,
      "outputs": []
    },
    {
      "cell_type": "code",
      "source": [
        "X_val = np.array(test.drop('Label',axis=1))\n",
        "y_val = OrdinalEncoder().fit_transform(test['Label'].to_numpy().reshape(-1, 1)).reshape(-1)"
      ],
      "metadata": {
        "id": "cDJm98OHKJiB"
      },
      "execution_count": null,
      "outputs": []
    },
    {
      "cell_type": "code",
      "source": [
        "scaelr = MinMaxScaler()\n",
        "X_train = scaelr.fit_transform(X_train)\n",
        "X_test = scaelr.transform(X_test)"
      ],
      "metadata": {
        "id": "pmh3iyxi8fQH"
      },
      "execution_count": null,
      "outputs": []
    },
    {
      "cell_type": "code",
      "source": [
        "test_features_df.shape"
      ],
      "metadata": {
        "id": "Ls7hLUvEqxpp",
        "outputId": "f04c8361-79e9-477f-88eb-c1546ae5af07",
        "colab": {
          "base_uri": "https://localhost:8080/"
        }
      },
      "execution_count": null,
      "outputs": [
        {
          "output_type": "execute_result",
          "data": {
            "text/plain": [
              "(1145, 640)"
            ]
          },
          "metadata": {},
          "execution_count": 32
        }
      ]
    },
    {
      "cell_type": "code",
      "source": [
        "def reduceFeatures(X,y, model, number_of_features):\n",
        "    rfe = RFE(estimator=model, n_features_to_select=number_of_features)\n",
        "    features = rfe.fit(X, y)\n",
        "    return features.support_"
      ],
      "metadata": {
        "id": "bZLZf3r43i1t"
      },
      "execution_count": null,
      "outputs": []
    },
    {
      "cell_type": "code",
      "source": [
        "def reduceFeaturesChi2(X,y,number_of_features):\n",
        "  bestfeatures = SelectKBest(score_func=chi2, k=number_of_features)\n",
        "  fit = bestfeatures.fit(X,y)\n",
        "  dfscores = pd.DataFrame(fit.scores_)\n",
        "  dfcolumns = pd.DataFrame(list(range(X.shape[1])))\n",
        "  featureScores = pd.concat([dfcolumns,dfscores],axis=1)\n",
        "  featureScores.columns = ['Specs','Score']\n",
        "  return list(featureScores.nlargest(number_of_features,'Score')['Specs'])"
      ],
      "metadata": {
        "id": "4dEU6zBIbC1l"
      },
      "execution_count": null,
      "outputs": []
    },
    {
      "cell_type": "code",
      "source": [
        "X_val.shape"
      ],
      "metadata": {
        "id": "o7k0abbkttHD",
        "colab": {
          "base_uri": "https://localhost:8080/"
        },
        "outputId": "84429033-8d53-4e60-ee18-8ff6c9d93745"
      },
      "execution_count": null,
      "outputs": [
        {
          "output_type": "execute_result",
          "data": {
            "text/plain": [
              "(534, 640)"
            ]
          },
          "metadata": {},
          "execution_count": 9
        }
      ]
    },
    {
      "cell_type": "code",
      "source": [
        "good_features_index = reduceFeaturesChi2(X_train,y_train,600)"
      ],
      "metadata": {
        "id": "WhQY19ST4b66"
      },
      "execution_count": null,
      "outputs": []
    },
    {
      "cell_type": "code",
      "source": [
        "_X_train_ = X_train[:,good_features_index]\n",
        "_X_val_ = X_val[:,good_features_index]"
      ],
      "metadata": {
        "id": "VYRY36HFcklI"
      },
      "execution_count": null,
      "outputs": []
    },
    {
      "cell_type": "code",
      "source": [
        "_X_val_.shape"
      ],
      "metadata": {
        "colab": {
          "base_uri": "https://localhost:8080/"
        },
        "id": "7pIsVUSNL936",
        "outputId": "d36dafb3-7b3d-4d1e-ce1a-472c4bd39bad"
      },
      "execution_count": null,
      "outputs": [
        {
          "output_type": "execute_result",
          "data": {
            "text/plain": [
              "(534, 600)"
            ]
          },
          "metadata": {},
          "execution_count": 12
        }
      ]
    },
    {
      "cell_type": "code",
      "source": [
        "kf = KFold(10,random_state=42,shuffle=True)"
      ],
      "metadata": {
        "id": "4qjoi84_0KkM"
      },
      "execution_count": null,
      "outputs": []
    },
    {
      "cell_type": "code",
      "source": [
        "models = []\n",
        "for train_index, test_index in kf.split(_X_train_):\n",
        "   lg = LogisticRegression(C=0.0001)\n",
        "   X_train0, X_val = _X_train_[train_index], _X_train_[test_index]\n",
        "   y_train0, y_val = y_train[train_index], y_train[test_index]\n",
        "   lg.fit(X_train0,y_train0)\n",
        "\n",
        "   y_on_hot_train = OneHotEncoder(sparse=False).fit_transform(y_train0.reshape((-1,1)))\n",
        "   y_on_hot_val = OneHotEncoder(sparse=False).fit_transform(y_val.reshape((-1,1)))\n",
        "   print('training loss: ',log_loss(y_on_hot_train,lg.predict_proba(X_train0)),' , validation loss : ',log_loss(y_on_hot_val,lg.predict_proba(X_val)))\n",
        "   models.append(lg)"
      ],
      "metadata": {
        "id": "TSM4NVru6M_m"
      },
      "execution_count": null,
      "outputs": []
    },
    {
      "cell_type": "code",
      "source": [
        "models = []\n",
        "for train_index, test_index in kf.split(_X_train_):\n",
        "   svc = SVC(probability=True,class_weight='balanced',C=0.1,gamma='auto')\n",
        "   X_train0, X_val0 = _X_train_[train_index], _X_train_[test_index]\n",
        "   y_train0, y_val0 = y_train[train_index], y_train[test_index]\n",
        "   svc.fit(X_train0,y_train0)\n",
        "\n",
        "   y_on_hot_train = OneHotEncoder().fit_transform(y_train0.reshape((-1,1)))\n",
        "   y_on_hot_val = OneHotEncoder().fit_transform(y_val0.reshape((-1,1)))\n",
        "   print('training loss: ',log_loss(y_on_hot_train,svc.predict_proba(X_train0)),' , validation loss : ',log_loss(y_on_hot_val,svc.predict_proba(X_val0)))\n",
        "   models.append(svc)"
      ],
      "metadata": {
        "colab": {
          "base_uri": "https://localhost:8080/"
        },
        "id": "g4nQ1PLY1QzO",
        "outputId": "a1839211-f309-4701-9408-d5e6ebe1f766"
      },
      "execution_count": null,
      "outputs": [
        {
          "output_type": "stream",
          "name": "stdout",
          "text": [
            "training loss:  0.972465659342974  , validation loss :  1.0024529593942018\n",
            "training loss:  0.9716018328440787  , validation loss :  0.9974316751733203\n",
            "training loss:  0.9834552515884337  , validation loss :  0.9236720624405385\n",
            "training loss:  0.9775066490360929  , validation loss :  0.9690928818089064\n",
            "training loss:  0.9785619809227343  , validation loss :  0.9584982424128664\n",
            "training loss:  0.9750032672313135  , validation loss :  0.9906686878330709\n",
            "training loss:  0.9770689954107294  , validation loss :  0.9794128507151887\n",
            "training loss:  0.9798733419859273  , validation loss :  0.9514569145589794\n",
            "training loss:  0.9760747698505596  , validation loss :  0.9929312287479545\n",
            "training loss:  0.9795646747591453  , validation loss :  0.9554724814329995\n"
          ]
        }
      ]
    },
    {
      "cell_type": "code",
      "source": [
        "models = []\n",
        "for train_index, test_index in kf.split(_X_train_):\n",
        "   rfc = RandomForestClassifier(20,max_depth=15,class_weight='balanced')\n",
        "   X_train0, X_val0 = _X_train_[train_index], _X_train_[test_index]\n",
        "   y_train0, y_val0 = y_train[train_index], y_train[test_index]\n",
        "   rfc.fit(X_train0,y_train0)\n",
        "\n",
        "   y_on_hot_train = OneHotEncoder().fit_transform(y_train0.reshape((-1,1)))\n",
        "   y_on_hot_val = OneHotEncoder().fit_transform(y_val0.reshape((-1,1)))\n",
        "   print('training loss: ',log_loss(y_on_hot_train,rfc.predict_proba(X_train0)),' , validation loss : ',log_loss(y_on_hot_val,rfc.predict_proba(X_val0)))\n",
        "   models.append(rfc)"
      ],
      "metadata": {
        "colab": {
          "base_uri": "https://localhost:8080/"
        },
        "id": "vpk4oY7S-SNw",
        "outputId": "61f4a6ca-ded4-40a9-bc96-5f4a6147d7f4"
      },
      "execution_count": null,
      "outputs": [
        {
          "output_type": "stream",
          "name": "stdout",
          "text": [
            "training loss:  0.31324913414099537  , validation loss :  0.9710861077840393\n",
            "training loss:  0.3028788024155559  , validation loss :  0.991953121250737\n",
            "training loss:  0.3068259132577469  , validation loss :  0.9140541744415167\n",
            "training loss:  0.3083367592240404  , validation loss :  0.9628503383299573\n",
            "training loss:  0.31142844897458477  , validation loss :  0.9668950482919094\n",
            "training loss:  0.3164214528956351  , validation loss :  0.9730585337586295\n",
            "training loss:  0.30365415041134014  , validation loss :  0.9851052183644589\n",
            "training loss:  0.2952179568195889  , validation loss :  0.955640384681014\n",
            "training loss:  0.29968835814578965  , validation loss :  0.9946867635129675\n",
            "training loss:  0.30994765394497176  , validation loss :  0.9470723694112766\n"
          ]
        }
      ]
    },
    {
      "cell_type": "code",
      "source": [
        "model = xgb.XGBClassifier(learning_rate=0.1,n_estimators=20,objective='multi:softmax',reg_lambda=5)"
      ],
      "metadata": {
        "id": "LNzUjeo-mCaB"
      },
      "execution_count": null,
      "outputs": []
    },
    {
      "cell_type": "code",
      "source": [
        "model.fit(X_train,y_train)"
      ],
      "metadata": {
        "id": "MAvlyVLFUmZz"
      },
      "execution_count": null,
      "outputs": []
    },
    {
      "cell_type": "code",
      "source": [
        "y_one_hot_train = OneHotEncoder().fit_transform(y_train.reshape((-1,1)))\n",
        "y_one_hot_val = OneHotEncoder().fit_transform(y_val.reshape((-1,1)))"
      ],
      "metadata": {
        "id": "VuxV5m6KdsgM"
      },
      "execution_count": null,
      "outputs": []
    },
    {
      "cell_type": "code",
      "source": [
        "y_one_hot_val.shape"
      ],
      "metadata": {
        "colab": {
          "base_uri": "https://localhost:8080/"
        },
        "id": "bwtgBBv9d-i3",
        "outputId": "72546a4e-882e-4615-9bef-87b6ee1978b5"
      },
      "execution_count": null,
      "outputs": [
        {
          "output_type": "execute_result",
          "data": {
            "text/plain": [
              "(534, 3)"
            ]
          },
          "metadata": {},
          "execution_count": 17
        }
      ]
    },
    {
      "cell_type": "code",
      "source": [],
      "metadata": {
        "id": "Iw60QiyYkoeT"
      },
      "execution_count": null,
      "outputs": []
    },
    {
      "cell_type": "code",
      "source": [
        "y_val"
      ],
      "metadata": {
        "id": "j3yO9qf3k4W5"
      },
      "execution_count": null,
      "outputs": []
    },
    {
      "cell_type": "code",
      "source": [
        "model.fit(_X_train_,y_train)"
      ],
      "metadata": {
        "id": "T4t0RNJqeFuO"
      },
      "execution_count": null,
      "outputs": []
    },
    {
      "cell_type": "code",
      "source": [
        "print('training loss: ',log_loss(y_one_hot_train,model.predict_proba(X_train)),' , validation loss : ',log_loss(y_one_hot_val,model.predict_proba(X_val)))"
      ],
      "metadata": {
        "colab": {
          "base_uri": "https://localhost:8080/"
        },
        "id": "A5WkG8Y9eqLl",
        "outputId": "2e7475cc-f373-4de2-9033-4116a330f802"
      },
      "execution_count": null,
      "outputs": [
        {
          "output_type": "stream",
          "name": "stdout",
          "text": [
            "training loss:  0.8550764535054955  , validation loss :  0.9568253762266609\n"
          ]
        }
      ]
    },
    {
      "cell_type": "code",
      "source": [
        "gsc.fit(_X_train_,y_train)"
      ],
      "metadata": {
        "id": "GUve4LLFTGrX"
      },
      "execution_count": null,
      "outputs": []
    },
    {
      "cell_type": "code",
      "source": [],
      "metadata": {
        "id": "j4AaJtrFpvUq"
      },
      "execution_count": null,
      "outputs": []
    },
    {
      "cell_type": "code",
      "source": [
        "y_on_hot_val.shape"
      ],
      "metadata": {
        "id": "ap1YXoBJp2KG",
        "colab": {
          "base_uri": "https://localhost:8080/"
        },
        "outputId": "0c8f2da5-838c-49ab-a805-86fd7416428d"
      },
      "execution_count": null,
      "outputs": [
        {
          "output_type": "execute_result",
          "data": {
            "text/plain": [
              "(534, 3)"
            ]
          },
          "metadata": {},
          "execution_count": 45
        }
      ]
    },
    {
      "cell_type": "code",
      "source": [
        "log_loss(y_on_hot_val,gsc.best_estimator_.predict_proba(_X_val_))"
      ],
      "metadata": {
        "colab": {
          "base_uri": "https://localhost:8080/"
        },
        "id": "jA9-fSzsqJw6",
        "outputId": "e49e892f-6a78-40c4-fefd-6f6eefbf4e23"
      },
      "execution_count": null,
      "outputs": [
        {
          "output_type": "execute_result",
          "data": {
            "text/plain": [
              "1.0603868846316182"
            ]
          },
          "metadata": {},
          "execution_count": 78
        }
      ]
    },
    {
      "cell_type": "code",
      "source": [
        "test = pd.read_csv('/content/SampleSubmission.csv')"
      ],
      "metadata": {
        "id": "JDxoORsQqUyj"
      },
      "execution_count": null,
      "outputs": []
    },
    {
      "cell_type": "code",
      "source": [
        "test_featurs = np.array(test_features_df)"
      ],
      "metadata": {
        "id": "KsT0a8T1d3NX"
      },
      "execution_count": null,
      "outputs": []
    },
    {
      "cell_type": "code",
      "source": [
        "test_featurs = test_featurs[:,good_features_index]"
      ],
      "metadata": {
        "id": "Z9iDCQ-_ewrm"
      },
      "execution_count": null,
      "outputs": []
    },
    {
      "cell_type": "code",
      "source": [
        "test_pred = models[6].predict_proba(test_featurs)"
      ],
      "metadata": {
        "id": "RnPgnK2oe1gg"
      },
      "execution_count": null,
      "outputs": []
    },
    {
      "cell_type": "code",
      "source": [
        "test.loc[:,['blast','brown','healthy']] = test_pred\n",
        "test.to_csv('sub13.csv',index=False)"
      ],
      "metadata": {
        "id": "AV4p3Syte_FM"
      },
      "execution_count": null,
      "outputs": []
    },
    {
      "cell_type": "code",
      "source": [],
      "metadata": {
        "id": "9iWqaO_nfDlc"
      },
      "execution_count": null,
      "outputs": []
    }
  ]
}